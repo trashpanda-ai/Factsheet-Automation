{
 "cells": [
  {
   "cell_type": "code",
   "execution_count": 3,
   "metadata": {},
   "outputs": [],
   "source": []
  },
  {
   "cell_type": "markdown",
   "metadata": {},
   "source": [
    "We use a mix of selenium to load the page as wanted and beautifulsoup to parse it."
   ]
  },
  {
   "cell_type": "code",
   "execution_count": 21,
   "metadata": {},
   "outputs": [],
   "source": [
    "from selenium import webdriver\n",
    "from selenium.webdriver.common.by import By\n",
    "import re\n",
    "from selenium.webdriver.support.ui import WebDriverWait\n",
    "from selenium.webdriver.common.by import By\n",
    "from selenium.webdriver.support import expected_conditions as EC\n",
    "from selenium.common.exceptions import NoSuchElementException\n",
    "from selenium import webdriver\n",
    "from selenium.webdriver.common.keys import Keys\n",
    "from selenium.webdriver.chrome.options import Options\n",
    "from selenium.webdriver.support.ui import WebDriverWait as wait\n",
    "from selenium.common.exceptions import TimeoutException\n",
    "import copy\n",
    "from bs4 import BeautifulSoup\n",
    "\n",
    "# Create a new instance of the Firefox driver\n",
    "driver = webdriver.Firefox()\n",
    "\n",
    "search = \"manduria\"\n",
    "vintage = \"2017\"\n",
    "base = \"https://www.vivino.com/search/wines?q=\"\n",
    "html = base + search + \"+\" + vintage\n",
    "driver.get(html)\n",
    "driver.implicitly_wait(1) # gives an implicit wait for 20 seconds\n",
    "#try:\n",
    "#    button = WebDriverWait(driver,5).until(EC.presence_of_element_located((By.XPATH,'//*[@id=\"didomi-notice-agree-button\"]')))\n",
    "#    button.click()\n",
    "#except NoSuchElementException:\n",
    "#    print(\"\\tError finding xyz...\")\n",
    "\n",
    "button = driver.find_element(By.XPATH,'/html/body/div[2]/section[1]/div/div/div/div[1]/div/div[1]/div/div[2]/div[1]/span[1]')\n",
    "                                        \n",
    "button.click()\n",
    "driver.implicitly_wait(3) # gives an implicit wait for 20 seconds\n",
    "\n",
    "total_height = int(driver.execute_script(\"return document.body.scrollHeight\"))\n",
    "\n",
    "for i in range(1, total_height, 5):\n",
    "    driver.execute_script(\"window.scrollTo(0, {});\".format(i))\n",
    "    \n",
    "\n",
    "soup = BeautifulSoup(driver.page_source, 'lxml')\n",
    "\n",
    "#save soup as html file\n",
    "with open('vivino.html', 'w') as file:\n",
    "    file.write(str(soup))\n",
    "# Close the driver\n",
    "driver.quit()"
   ]
  },
  {
   "cell_type": "code",
   "execution_count": 22,
   "metadata": {},
   "outputs": [
    {
     "name": "stdout",
     "output_type": "stream",
     "text": [
      "Light 69 Bold\n",
      "Smooth 22 Tannic\n",
      "Dry 46 Sweet\n",
      "Soft 12 Acidic\n"
     ]
    }
   ],
   "source": [
    "\n",
    "# Find all the rows in the table\n",
    "rows = soup.select('.tasteStructure__tasteCharacteristic--jLtsE')\n",
    "\n",
    "# For each row\n",
    "for row in rows:\n",
    "    # Find the cells\n",
    "    cells = row.find_all('td')\n",
    "\n",
    "    # The first cell contains the first property\n",
    "    property1 = cells[0].text.strip()\n",
    "\n",
    "    # The second cell contains the style attribute with the percentage\n",
    "    style = cells[1].select_one('.indicatorBar__progress--3aXLX')['style']\n",
    "    percentage = re.search(r'left:\\s(\\d+).\\d+%;', style).group(1)\n",
    "\n",
    "    # The third cell contains the second property\n",
    "    property2 = cells[2].text.strip()\n",
    "\n",
    "    # Print the properties and the percentage\n",
    "    print(property1, percentage, property2)"
   ]
  },
  {
   "cell_type": "code",
   "execution_count": null,
   "metadata": {},
   "outputs": [],
   "source": [
    "#tbd: # print(winery.text, wine.text, vintage.text, rating.text, country.text )"
   ]
  }
 ],
 "metadata": {
  "kernelspec": {
   "display_name": "Python 3",
   "language": "python",
   "name": "python3"
  },
  "language_info": {
   "codemirror_mode": {
    "name": "ipython",
    "version": 3
   },
   "file_extension": ".py",
   "mimetype": "text/x-python",
   "name": "python",
   "nbconvert_exporter": "python",
   "pygments_lexer": "ipython3",
   "version": "3.9.18"
  }
 },
 "nbformat": 4,
 "nbformat_minor": 2
}
