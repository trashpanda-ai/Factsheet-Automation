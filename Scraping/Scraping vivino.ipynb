{
 "cells": [
  {
   "cell_type": "code",
   "execution_count": 3,
   "metadata": {},
   "outputs": [],
   "source": []
  },
  {
   "cell_type": "code",
   "execution_count": 48,
   "metadata": {},
   "outputs": [
    {
     "name": "stdout",
     "output_type": "stream",
     "text": [
      "Vigneti del Salento Primitivo di Manduria Zolla Primitivo di Manduria Zolla 2017 4.2 Italy 53 <selenium.webdriver.remote.webelement.WebElement (session=\"2ee8b797-6b1c-4f5d-8f52-ed9c52e96b57\", element=\"d90a872c-81f5-4dfb-a887-aa9a6780d532\")>\n"
     ]
    }
   ],
   "source": [
    "from selenium import webdriver\n",
    "from selenium.webdriver.common.by import By\n",
    "import re\n",
    "\n",
    "# Create a new instance of the Firefox driver\n",
    "driver = webdriver.Firefox()\n",
    "\n",
    "search = \"zolla\"\n",
    "vintage = \"2017\"\n",
    "base = \"https://www.vivino.com/search/wines?q=\"\n",
    "html = base + search + \"+\" + vintage\n",
    "driver.get(html)\n",
    "driver.implicitly_wait(2) # gives an implicit wait for 20 seconds\n",
    "button = driver.find_element(By.XPATH,'//*[@id=\"didomi-notice-agree-button\"]')\n",
    "button.click()\n",
    "button = driver.find_element(By.XPATH,'/html/body/div[3]/section[1]/div/div/div/div[1]/div/div[1]/div/div[1]/a/figure/div[1]')\n",
    "button.click()\n",
    "driver.implicitly_wait(2) # gives an implicit wait for 20 seconds\n",
    "\n",
    "#driver.implicitly_wait(2) # gives an implicit wait for 20 seconds\n",
    "\n",
    "#button = driver.find_element(By.XPATH,'/html/body/div[1]/div/div/div/div/div/div[3]/button[2]/span')\n",
    "\n",
    "# Click the button\n",
    "#button.click()\n",
    "page_height = driver.execute_script(\"return document.body.scrollHeight\")\n",
    "browser_window_height = driver.get_window_size(windowHandle='current')['height']*0.7\n",
    "current_position = driver.execute_script('return window.pageYOffset')\n",
    "while page_height - current_position > browser_window_height:\n",
    "    driver.execute_script(f\"window.scrollTo({current_position}, {browser_window_height + current_position});\")\n",
    "    current_position = driver.execute_script('return window.pageYOffset')\n",
    "    driver.implicitly_wait(2) # gives an implicit wait for 20 seconds\n",
    "\n",
    "\n",
    "# Find an element by its class name (replace 'class_name' with the actual class name)\n",
    "winery = driver.find_element(By.CLASS_NAME,'winery')\n",
    "wine = driver.find_element(By.CLASS_NAME,'wine')\n",
    "vintage = driver.find_element(By.CLASS_NAME,'vintage')\n",
    "                                             \n",
    "rating = driver.find_element(By.CLASS_NAME,'vivinoRating_averageValue__uDdPM')\n",
    "country = driver.find_element(By.XPATH,'/html/body/div[3]/div[5]/div/div/div[2]/div[2]/div/div/div/div/div[1]/div/span[1]/a')\n",
    "\n",
    "smooth_tannic = driver.find_element(By.XPATH,'/html/body/div[3]/div[7]/div[1]/div/div[2]/div/div[1]/div')\n",
    "                                            \n",
    "#driver.execute_script(\"arguments[0].scrollIntoView();\", smooth_tannic)\n",
    "\n",
    "\n",
    "# light_bold = driver.find_element(By.XPATH,'/html/body/div[3]/div[6]/div[2]/div/div[7]/div/div[2]/div[1]/table/tbody/tr[1]/td[2]/div/span')\n",
    "# #driver.execute_script(\"arguments[0].scrollIntoView();\", light_bold)\n",
    "# pattern = r\"left:\\s(\\d+).\\d+%;\"\n",
    "# # Search the string for the pattern\n",
    "# match = re.search(pattern, light_bold.get_attribute('style'))\n",
    "\n",
    "# # If a match was found\n",
    "# if match:\n",
    "#     # Print the first group (the number after \"left:\")\n",
    "#     light_bold = match.group(1)\n",
    "\n",
    "# match = re.search(pattern, smooth_tannic.get_attribute('style'))\n",
    "# # If a match was found\n",
    "# if match:\n",
    "#     # Print the first group (the number after \"left:\")\n",
    "#     smooth_tannic = match.group(1)\n",
    "# # Print the element's text\n",
    "print(winery.text, wine.text, vintage.text, rating.text, country.text, smooth_tannic )\n",
    "\n",
    "\n",
    "# Close the driver\n",
    "driver.quit()"
   ]
  },
  {
   "cell_type": "code",
   "execution_count": null,
   "metadata": {},
   "outputs": [],
   "source": []
  }
 ],
 "metadata": {
  "kernelspec": {
   "display_name": "Python 3",
   "language": "python",
   "name": "python3"
  },
  "language_info": {
   "codemirror_mode": {
    "name": "ipython",
    "version": 3
   },
   "file_extension": ".py",
   "mimetype": "text/x-python",
   "name": "python",
   "nbconvert_exporter": "python",
   "pygments_lexer": "ipython3",
   "version": "3.9.18"
  }
 },
 "nbformat": 4,
 "nbformat_minor": 2
}
